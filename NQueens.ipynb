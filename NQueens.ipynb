{
 "cells": [
  {
   "cell_type": "markdown",
   "id": "c364e96a",
   "metadata": {},
   "source": [
    "# N Queens Problem\n"
   ]
  },
  {
   "cell_type": "code",
   "execution_count": 51,
   "id": "f2519b4a",
   "metadata": {},
   "outputs": [],
   "source": [
    "# First we will create a board of any dimension (i.e 4X4, 8X8 etc)\n",
    "global n\n",
    "n =8\n",
    "def create_board(n):\n",
    "    board = []\n",
    "    for i in range(n):\n",
    "        temp = []\n",
    "        for j in range(n):\n",
    "            temp.append(0)\n",
    "        board.append(temp)\n",
    "    return(board)\n",
    "\n",
    "board = create_board(n)\n"
   ]
  },
  {
   "cell_type": "code",
   "execution_count": 52,
   "id": "96e685d0",
   "metadata": {},
   "outputs": [],
   "source": [
    "def validate(board, pos):\n",
    "    # CHECK SAME ROW - BUT WE HAD TOOK CARE OF THAT\n",
    "    for i in range(len(board[0])):\n",
    "        if(board[pos[0]][i] != 0 and i != pos[1]):\n",
    "            return(False)\n",
    "    \n",
    "    # CHECK SAME COLUMN\n",
    "    for i in range(len(board)):\n",
    "        if(board[i][pos[1]] != 0 and i != pos[0]):\n",
    "            return(False)\n",
    "    \n",
    "    # INITIALIZING I AND J WILL BE DONE SEPERATELY FOR ALL THE WHILE LOOPS DOWN\n",
    "    i = pos[0] - 1\n",
    "    j = pos[1] - 1\n",
    "     \n",
    "    # CHECK LEFT-UP\n",
    "    while(i>=0 and j>=0):\n",
    "        if(board[i][j] != 0):\n",
    "            return(False)\n",
    "        i -= 1\n",
    "        j -= 1\n",
    "        \n",
    "    i = pos[0] + 1\n",
    "    j = pos[1] - 1\n",
    "    # CHECK LEFT-DOWN\n",
    "    while(i<=n-1 and j>=0):\n",
    "        if(board[i][j] != 0):\n",
    "            return(False)\n",
    "        i += 1\n",
    "        j -= 1\n",
    "        \n",
    "    i = pos[0] - 1\n",
    "    j = pos[1] + 1\n",
    "    # CHECK RIGHT-UP\n",
    "    while(i>=0 and j<=n-1):\n",
    "        if(board[i][j] != 0):\n",
    "            return(False)\n",
    "        i -= 1\n",
    "        j += 1\n",
    "    \n",
    "    i = pos[0] + 1\n",
    "    j = pos[1] + 1\n",
    "    # CHECK RIGHT-DOWN\n",
    "    while(i<=n-1 and j<=n-1):\n",
    "        if(board[i][j] != 0):\n",
    "            return(False)\n",
    "        i += 1\n",
    "        j += 1\n",
    "    \n",
    "    return(True)\n"
   ]
  },
  {
   "cell_type": "code",
   "execution_count": 53,
   "id": "5132f3b1",
   "metadata": {},
   "outputs": [],
   "source": [
    "def solve(board, col):\n",
    "    if(col == n):\n",
    "        return(True)\n",
    "    \n",
    "    for i in range(n):\n",
    "        position = (i, col)\n",
    "        \n",
    "        if(validate(board,position)):\n",
    "            board[position[0]][position[1]] = 1\n",
    "            \n",
    "            if(solve(board,col+1)):\n",
    "                return(True)\n",
    "            \n",
    "            board[position[0]][position[1]] = 0\n",
    "    return(False)"
   ]
  },
  {
   "cell_type": "code",
   "execution_count": 54,
   "id": "3d4889fb",
   "metadata": {},
   "outputs": [
    {
     "name": "stdout",
     "output_type": "stream",
     "text": [
      "[1, 0, 0, 0, 0, 0, 0, 0]\n",
      "[0, 0, 0, 0, 0, 0, 1, 0]\n",
      "[0, 0, 0, 0, 1, 0, 0, 0]\n",
      "[0, 0, 0, 0, 0, 0, 0, 1]\n",
      "[0, 1, 0, 0, 0, 0, 0, 0]\n",
      "[0, 0, 0, 1, 0, 0, 0, 0]\n",
      "[0, 0, 0, 0, 0, 1, 0, 0]\n",
      "[0, 0, 1, 0, 0, 0, 0, 0]\n"
     ]
    }
   ],
   "source": [
    "# DRIVERS CODE\n",
    "solve(board,0)\n",
    "for i in range(n):\n",
    "    print(board[i])\n",
    "# print(board)"
   ]
  },
  {
   "cell_type": "code",
   "execution_count": 10,
   "id": "23b5a1b5",
   "metadata": {},
   "outputs": [],
   "source": []
  }
 ],
 "metadata": {
  "kernelspec": {
   "display_name": "Python 3",
   "language": "python",
   "name": "python3"
  },
  "language_info": {
   "codemirror_mode": {
    "name": "ipython",
    "version": 3
   },
   "file_extension": ".py",
   "mimetype": "text/x-python",
   "name": "python",
   "nbconvert_exporter": "python",
   "pygments_lexer": "ipython3",
   "version": "3.8.8"
  }
 },
 "nbformat": 4,
 "nbformat_minor": 5
}
